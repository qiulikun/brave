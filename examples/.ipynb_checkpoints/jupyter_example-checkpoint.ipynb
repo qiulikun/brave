{
 "cells": [
  {
   "cell_type": "code",
   "execution_count": 11,
   "metadata": {},
   "outputs": [
    {
     "name": "stdout",
     "output_type": "stream",
     "text": [
      "The autoreload extension is already loaded. To reload it, use:\n",
      "  %reload_ext autoreload\n"
     ]
    }
   ],
   "source": [
    "%load_ext autoreload\n",
    "%autoreload 2"
   ]
  },
  {
   "cell_type": "code",
   "execution_count": 12,
   "metadata": {},
   "outputs": [
    {
     "data": {
      "application/javascript": [
       "\n",
       "    \n",
       "    if(!$('.brave_css').length){\n",
       "        var link = document.createElement(\"link\");\n",
       "        link.class = 'brave_css';\n",
       "        link.type = \"text/css\";\n",
       "        link.rel = \"stylesheet\";\n",
       "        link.href = \"https://cdn.jsdelivr.net/gh/nlplab/brat@v1.3_Crunchy_Frog/style-vis.css\";\n",
       "        document.getElementsByTagName(\"head\")[0].appendChild(link);\n",
       "    }\n",
       "    \n",
       "    if(!window.Util){\n",
       "        \n",
       "        requirejs.config(\n",
       "            {\n",
       "\n",
       "                'paths': {\n",
       "                    'svg': 'https://cdn.jsdelivr.net/gh/nlplab/brat@v1.3_Crunchy_Frog/client/lib/jquery.svg.min',\n",
       "                    'brat_config': 'https://cdn.jsdelivr.net/gh/nlplab/brat@v1.3_Crunchy_Frog/client/src/configuration',\n",
       "                    'brat_utils': 'https://cdn.jsdelivr.net/gh/nlplab/brat@v1.3_Crunchy_Frog/client/src/util',\n",
       "                    'brat_annotation': 'https://cdn.jsdelivr.net/gh/nlplab/brat@v1.3_Crunchy_Frog/client/src/annotation_log',\n",
       "                    'brat_webfont': 'https://cdn.jsdelivr.net/gh/nlplab/brat@v1.3_Crunchy_Frog/client/lib/webfont',\n",
       "                    'brat_dispatcher': 'https://cdn.jsdelivr.net/gh/nlplab/brat@v1.3_Crunchy_Frog/client/src/dispatcher',\n",
       "                    'brat_monitor': 'https://cdn.jsdelivr.net/gh/nlplab/brat@v1.3_Crunchy_Frog/client/src/url_monitor',\n",
       "                    'brat_visualizer': 'https://cdn.jsdelivr.net/gh/nlplab/brat@v1.3_Crunchy_Frog/client/src/visualizer'\n",
       "\n",
       "                }});\n",
       "    \n",
       "        requirejs(['svg', 'brat_config', 'brat_annotation', 'brat_webfont', 'brat_dispatcher', 'brat_monitor', 'brat_visualizer', 'brat_utils']);\n",
       "    }        \n",
       "    "
      ]
     },
     "metadata": {},
     "output_type": "display_data"
    }
   ],
   "source": [
    "from brave import brave, start_notebook_mode\n",
    "import os\n",
    "# import logging\n",
    "\n",
    "# logging.basicConfig(format='%(asctime)-15s %(clientip)s %(user)-8s %(message)s', level=logging.DEBUG)\n",
    "start_notebook_mode()"
   ]
  },
  {
   "cell_type": "code",
   "execution_count": 18,
   "metadata": {},
   "outputs": [],
   "source": [
    "coll_data = {\n",
    "    \"entity_types\": [\n",
    "        {\n",
    "            \"type\": \"Person\",\n",
    "            \"labels\": [ \"Person\", \"Per\" ],\n",
    "            \"bgColor\": \"#7fa2ff\",\n",
    "            \"borderColor\": \"darken\"\n",
    "        }\n",
    "    ],\n",
    "    \"entity_attribute_types\": [\n",
    "        {\n",
    "            \"type\": \"Notorious\",\n",
    "            \"values\": {\n",
    "                \"Notorious\": { \"glyph\": \"*\" }\n",
    "            },\n",
    "            \"bool\": \"Notorious\"\n",
    "        }\n",
    "    ],\n",
    "    \"relation_types\": [\n",
    "        {\n",
    "            \"type\": \"Anaphora\",\n",
    "            \"labels\": [ \"Anaphora\", \"Ana\" ],\n",
    "            \"dashArray\": \"3,3\",\n",
    "            \"color\": \"purple\",\n",
    "            \"args\": [\n",
    "                {\n",
    "                    \"role\": \"Anaphor\",\n",
    "                    \"targets\": [ \"Person\" ]\n",
    "                },\n",
    "                {\n",
    "                    \"role\": \"Entity\",\n",
    "                    \"targets\": [ \"Person\" ]\n",
    "                }\n",
    "            ]\n",
    "        }\n",
    "    ],\n",
    "    \"event_types\": [\n",
    "        {\n",
    "            \"type\": \"Assassination\",\n",
    "            \"labels\": [ \"Assassination\", \"Assas\" ],\n",
    "            \"bgColor\": \"lightgreen\",\n",
    "            \"borderColor\": \"darken\",\n",
    "            \"arcs\": [\n",
    "                {\n",
    "                    \"type\": \"Victim\",\n",
    "                    \"labels\": [ \"Victim\", \"Vict\" ]\n",
    "                },\n",
    "                {\n",
    "                    \"type\": \"Perpetrator\",\n",
    "                    \"labels\": [ \"Perpetrator\", \"Perp\" ],\n",
    "                    \"color\": \"green\"\n",
    "                }\n",
    "            ]\n",
    "        }\n",
    "    ]\n",
    "}\n",
    "\n",
    "doc_data = {\n",
    "    \"text\": \"Ed O'Kelley was the man who shot the man who shot Jesse James.\",\n",
    "    \"entities\": [\n",
    "        [\n",
    "            \"T1\",\n",
    "            \"Person\",\n",
    "            [ [ 0, 11 ] ]\n",
    "        ],\n",
    "        [\n",
    "            \"T2\",\n",
    "            \"Person\",\n",
    "            [ [ 20, 23 ] ]\n",
    "        ],\n",
    "        [\n",
    "            \"T3\",\n",
    "            \"Person\",\n",
    "            [ [ 37, 40 ] ]\n",
    "        ],\n",
    "        [\n",
    "            \"T4\",\n",
    "            \"Person\",\n",
    "            [ [ 50, 61 ] ]\n",
    "        ]\n",
    "    ],\n",
    "    \"attributes\": [ [ \"A1\", \"Notorious\", \"T4\" ] ],\n",
    "    \"relations\": [\n",
    "        [\n",
    "            \"R1\",\n",
    "            \"Anaphora\",\n",
    "            [ [ \"Anaphor\", \"T2\" ], [ \"Entity\", \"T1\" ] ]\n",
    "        ]\n",
    "    ],\n",
    "    \"triggers\": [\n",
    "        [\n",
    "            \"T5\",\n",
    "            \"Assassination\",\n",
    "            [ [ 45, 49 ] ]\n",
    "        ],\n",
    "        [\n",
    "            \"T6\",\n",
    "            \"Assassination\",\n",
    "            [ [ 28, 32 ] ]\n",
    "        ]\n",
    "    ],\n",
    "    \"events\": [\n",
    "        [\n",
    "            \"E1\",\n",
    "            \"T5\",\n",
    "            [ [ \"Perpetrator\", \"T3\" ], [ \"Victim\", \"T4\" ] ]\n",
    "        ],\n",
    "        [\n",
    "            \"E2\",\n",
    "            \"T6\",\n",
    "            [ [ \"Perpetrator\", \"T2\" ], [ \"Victim\", \"T3\" ] ]\n",
    "        ]\n",
    "    ]\n",
    "}\n",
    "\n",
    "cont = brave(coll_data, doc_data)\n"
   ]
  },
  {
   "cell_type": "code",
   "execution_count": 19,
   "metadata": {},
   "outputs": [
    {
     "name": "stdout",
     "output_type": "stream",
     "text": [
      "<brave._brave.HtmlContainer object at 0x7fc7c8624dd0>\n"
     ]
    }
   ],
   "source": [
    "print(cont)\n"
   ]
  },
  {
   "cell_type": "code",
   "execution_count": 21,
   "metadata": {},
   "outputs": [
    {
     "ename": "AttributeError",
     "evalue": "'HtmlContainer' object has no attribute 'jupyter'",
     "output_type": "error",
     "traceback": [
      "\u001b[0;31m---------------------------------------------------------------------------\u001b[0m",
      "\u001b[0;31mAttributeError\u001b[0m                            Traceback (most recent call last)",
      "\u001b[0;32m<ipython-input-21-e93cce243f8f>\u001b[0m in \u001b[0;36m<module>\u001b[0;34m\u001b[0m\n\u001b[0;32m----> 1\u001b[0;31m \u001b[0mcont\u001b[0m\u001b[0;34m.\u001b[0m\u001b[0mjupyter\u001b[0m\u001b[0;34m(\u001b[0m\u001b[0;34m)\u001b[0m\u001b[0;34m\u001b[0m\u001b[0;34m\u001b[0m\u001b[0m\n\u001b[0m",
      "\u001b[0;31mAttributeError\u001b[0m: 'HtmlContainer' object has no attribute 'jupyter'"
     ]
    }
   ],
   "source": [
    "cont.to_jupyter()"
   ]
  },
  {
   "cell_type": "code",
   "execution_count": null,
   "metadata": {},
   "outputs": [],
   "source": []
  }
 ],
 "metadata": {
  "kernelspec": {
   "display_name": "Python 3",
   "language": "python",
   "name": "python3"
  },
  "language_info": {
   "codemirror_mode": {
    "name": "ipython",
    "version": 3
   },
   "file_extension": ".py",
   "mimetype": "text/x-python",
   "name": "python",
   "nbconvert_exporter": "python",
   "pygments_lexer": "ipython3",
   "version": "3.7.9"
  }
 },
 "nbformat": 4,
 "nbformat_minor": 2
}
